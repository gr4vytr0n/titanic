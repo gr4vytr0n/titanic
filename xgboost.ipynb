{
 "cells": [
  {
   "cell_type": "code",
   "execution_count": 1,
   "metadata": {
    "collapsed": true
   },
   "outputs": [],
   "source": [
    "import numpy as np\n",
    "import pandas as pd\n",
    "# XGBoost is an optimized distributed gradient boosting library\n",
    "import xgboost as xgb\n",
    "from sklearn.preprocessing import LabelEncoder\n",
    "from sklearn.base import TransformerMixin"
   ]
  },
  {
   "cell_type": "code",
   "execution_count": 2,
   "metadata": {
    "collapsed": true
   },
   "outputs": [],
   "source": [
    "test_df = pd.read_csv('data/test.csv')\n",
    "train_df = pd.read_csv('data/train.csv')"
   ]
  },
  {
   "cell_type": "code",
   "execution_count": 3,
   "metadata": {
    "collapsed": true
   },
   "outputs": [],
   "source": [
    "# impute missing values using:\n",
    "#   the median for numeric columns and\n",
    "#   the most common value for string columns\n",
    "class DataFrameImputer(TransformerMixin):\n",
    "    def fit(self, X, y=None):\n",
    "        self.fill = pd.Series([X[c].value_counts().index[0]\n",
    "            if X[c].dtype == np.dtype('O') else X[c].median() for c in X],\n",
    "            index=X.columns)\n",
    "        return self\n",
    "    def transform(self, X, y=None):\n",
    "        return X.fillna(self.fill)"
   ]
  },
  {
   "cell_type": "code",
   "execution_count": 4,
   "metadata": {
    "collapsed": true
   },
   "outputs": [],
   "source": [
    "feature_columns_to_use = ['Pclass','Sex','Age','Fare','Parch']\n",
    "nonnumeric_columns = ['Sex']\n",
    "\n",
    "big_X = train_df[feature_columns_to_use].append(test_df[feature_columns_to_use])\n",
    "big_X_imputed = DataFrameImputer().fit_transform(big_X)"
   ]
  },
  {
   "cell_type": "code",
   "execution_count": 5,
   "metadata": {
    "collapsed": true
   },
   "outputs": [],
   "source": [
    "# numerically encode nonnumeric feature columns (Sex)\n",
    "le = LabelEncoder()\n",
    "for feature in nonnumeric_columns:\n",
    "    big_X_imputed[feature] = le.fit_transform(big_X_imputed[feature])"
   ]
  },
  {
   "cell_type": "code",
   "execution_count": 6,
   "metadata": {
    "collapsed": true
   },
   "outputs": [],
   "source": [
    "# split into test/trains sets\n",
    "train_X = big_X_imputed[0:train_df.shape[0]].as_matrix()\n",
    "test_X = big_X_imputed[train_df.shape[0]::].as_matrix()\n",
    "train_y = train_df['Survived']"
   ]
  },
  {
   "cell_type": "code",
   "execution_count": 7,
   "metadata": {
    "collapsed": true
   },
   "outputs": [],
   "source": [
    "# This is the first xgboost submission using parameters from the tutorial\n",
    "# gbm = xgb.XGBClassifier(max_depth=3, n_estimators=300, learning_rate=0.05).fit(train_X, train_y)\n",
    "# predictions = gbm.predict(test_X)"
   ]
  },
  {
   "cell_type": "code",
   "execution_count": 8,
   "metadata": {
    "collapsed": true
   },
   "outputs": [],
   "source": [
    "# going to generate various submissions with different parameters tuning"
   ]
  },
  {
   "cell_type": "code",
   "execution_count": 27,
   "metadata": {
    "collapsed": true
   },
   "outputs": [],
   "source": [
    "# max-depth parameter tuning\n",
    "for i in range(7, 9):\n",
    "    gbm = xgb.XGBClassifier(max_depth=i, n_estimators=300, learning_rate=0.05).fit(train_X, train_y)\n",
    "    predictions = gbm.predict(test_X)\n",
    "    \n",
    "    # kaggle submission\n",
    "    submission = pd.DataFrame({ 'PassengerId': test_df['PassengerId'],\n",
    "                                'Survived': predictions })\n",
    "    submission.to_csv('submissions/submission_xgboost_max_depth_{}.csv'.format(i), index=False)\n",
    "    \n",
    "# submissions: 3 (acc ~75%), 6 (acc ~77%), 9 (acc ~74%)\n",
    "# submissions: 0 (acc ~63%)\n",
    "# submissions: 1 (acc ~76%), 2 (acc ~73%)\n",
    "# submissions: 4 (acc ~75%), 5 (acc ~77%), 7 (acc ~77%), 8 (acc ~76%)"
   ]
  },
  {
   "cell_type": "code",
   "execution_count": 10,
   "metadata": {
    "collapsed": true
   },
   "outputs": [],
   "source": [
    "# more parameter tuning\n",
    "for i in range(40, 41):\n",
    "    gbm = xgb.XGBClassifier(max_depth=i, n_estimators=i*100, learning_rate=0.05).fit(train_X, train_y)\n",
    "    predictions = gbm.predict(test_X)\n",
    "    \n",
    "    # kaggle submission\n",
    "    submission = pd.DataFrame({ 'PassengerId': test_df['PassengerId'],\n",
    "                                'Survived': predictions })\n",
    "    submission.to_csv('submissions/xgb_max_d_6_n_est_{}.csv'.format(i), index=False)\n",
    "\n",
    "# submissions: 100 (acc ~77%), 200 (acc ~75%), 300 (acc ~75%), 400 (acc ~76%),\n",
    "#              500 (acc ~77%),  600 (acc ~76%), 700 (acc ~74%), 800 (acc ~73%)\n",
    "\n",
    "# 4000 (acc ~73%)"
   ]
  },
  {
   "cell_type": "code",
   "execution_count": null,
   "metadata": {
    "collapsed": true
   },
   "outputs": [],
   "source": []
  }
 ],
 "metadata": {
  "kernelspec": {
   "display_name": "Python 3",
   "language": "python",
   "name": "python3"
  },
  "language_info": {
   "codemirror_mode": {
    "name": "ipython",
    "version": 3
   },
   "file_extension": ".py",
   "mimetype": "text/x-python",
   "name": "python",
   "nbconvert_exporter": "python",
   "pygments_lexer": "ipython3",
   "version": "3.6.3"
  }
 },
 "nbformat": 4,
 "nbformat_minor": 2
}
